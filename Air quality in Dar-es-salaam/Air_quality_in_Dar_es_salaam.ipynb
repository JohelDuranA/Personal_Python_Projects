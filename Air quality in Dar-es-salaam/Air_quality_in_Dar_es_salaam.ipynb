{
  "nbformat": 4,
  "nbformat_minor": 0,
  "metadata": {
    "colab": {
      "name": "Air quality in Dar-es-salaam.ipynb",
      "provenance": [],
      "collapsed_sections": []
    },
    "kernelspec": {
      "name": "python3",
      "display_name": "Python 3"
    },
    "language_info": {
      "name": "python"
    }
  },
  "cells": [
    {
      "cell_type": "markdown",
      "source": [
        "# **Air Quality in Dar es Salaam 🇹🇿**"
      ],
      "metadata": {
        "id": "4j3EVlQ7KkCE"
      }
    },
    {
      "cell_type": "code",
      "execution_count": null,
      "metadata": {
        "id": "VYFB-2FaKbRj"
      },
      "outputs": [],
      "source": [
        "# Import libraries here\n",
        "from pymongo import MongoClient\n",
        "\n",
        "from pprint import PrettyPrinter\n",
        "\n",
        "import pandas as pd\n",
        "\n",
        "import pytz\n",
        "\n",
        "import matplotlib.pyplot as plt\n",
        "\n",
        "from statsmodels.graphics.tsaplots import plot_acf, plot_pacf\n",
        "\n",
        "from sklearn.metrics import mean_absolute_error\n",
        "\n",
        "from statsmodels.tsa.ar_model import AutoReg"
      ]
    },
    {
      "cell_type": "markdown",
      "source": [
        "# Prepare Data"
      ],
      "metadata": {
        "id": "bnAzrzlEK5ib"
      }
    },
    {
      "cell_type": "code",
      "source": [
        "#Connect to MongoDB server\n",
        "\n",
        "client = MongoClient(host='localhost', port=27017)"
      ],
      "metadata": {
        "id": "b6pAcAR6K2rf"
      },
      "execution_count": null,
      "outputs": []
    },
    {
      "cell_type": "code",
      "source": [
        "pp = PrettyPrinter(indent=2)"
      ],
      "metadata": {
        "id": "kAZDzQCNLIru"
      },
      "execution_count": null,
      "outputs": []
    },
    {
      "cell_type": "code",
      "source": [
        "pp.pprint(list(client.list_databases()))"
      ],
      "metadata": {
        "id": "0LgsKGjFLJbt"
      },
      "execution_count": null,
      "outputs": []
    },
    {
      "cell_type": "code",
      "source": [
        "db=client['air-quality']\n",
        "db"
      ],
      "metadata": {
        "id": "TVb-q6nBLLpM"
      },
      "execution_count": null,
      "outputs": []
    },
    {
      "cell_type": "code",
      "source": [
        "for c in db.list_collections():\n",
        "    print(c['name'])"
      ],
      "metadata": {
        "id": "TyiSSwrhLN4i"
      },
      "execution_count": null,
      "outputs": []
    },
    {
      "cell_type": "code",
      "source": [
        "dar=db['dar-es-salaam']"
      ],
      "metadata": {
        "id": "w2EpOtdXLRIE"
      },
      "execution_count": null,
      "outputs": []
    },
    {
      "cell_type": "markdown",
      "source": [
        "## Explore"
      ],
      "metadata": {
        "id": "aICLc4LELU0g"
      }
    },
    {
      "cell_type": "code",
      "source": [
        "#all the sensor sites in the Dar es Salaam collection\n",
        "\n",
        "sites = dar.distinct(\"metadata.site\")\n",
        "sites"
      ],
      "metadata": {
        "id": "YSlYfrrKLTOn"
      },
      "execution_count": null,
      "outputs": []
    },
    {
      "cell_type": "code",
      "source": [
        "# Determine which site in the Dar es Salaam collection has the most sensor readings \n",
        "\n",
        "print (dar.count_documents({'metadata.site':11} ))\n",
        "print (dar.count_documents({'metadata.site':23} ))"
      ],
      "metadata": {
        "id": "KpigP6c6LuPz"
      },
      "execution_count": null,
      "outputs": []
    },
    {
      "cell_type": "code",
      "source": [
        "result =  dar.aggregate(\n",
        "  \n",
        "    [{\"$group\": {\"_id\": \"$metadata.site\", \"count\": {\"$count\": {}}}}]\n",
        ")\n",
        "readings_per_site = list(result)\n",
        "readings_per_site"
      ],
      "metadata": {
        "id": "YVI9ik1jLyvy"
      },
      "execution_count": null,
      "outputs": []
    },
    {
      "cell_type": "markdown",
      "source": [
        "## Import"
      ],
      "metadata": {
        "id": "rYIYVY1pMAeu"
      }
    },
    {
      "cell_type": "code",
      "source": [
        "# create wrangle function"
      ],
      "metadata": {
        "id": "QA7lJJ-gL4qR"
      },
      "execution_count": null,
      "outputs": []
    },
    {
      "cell_type": "code",
      "source": [
        "def wrangle(collection):\n",
        "    \n",
        "    results = collection.find(\n",
        "        {\"metadata.site\": 11, \"metadata.measurement\": \"P2\"},\n",
        "        projection={\"P2\": 1, \"timestamp\": 1, \"_id\": 0},\n",
        "    )\n",
        "    \n",
        "    y = pd.DataFrame(results).set_index(\"timestamp\")\n",
        "    \n",
        "    \n",
        "    #localize the time-zone\n",
        "    \n",
        "    y.index= y.index.tz_localize('UTC').tz_convert(\"Africa/Dar_es_Salaam\")\n",
        "    \n",
        "    #remove outliers\n",
        "    \n",
        "    y= y[y[\"P2\"] <= 100]\n",
        "    \n",
        "    #resample to 1H windows, ffill missing values\n",
        "    \n",
        "    y=y[\"P2\"].resample(\"1H\").mean().fillna(method=\"ffill\").to_frame()\n",
        "    \n",
        "    \n",
        "    return y"
      ],
      "metadata": {
        "id": "kMpJ_bqDMLBB"
      },
      "execution_count": null,
      "outputs": []
    },
    {
      "cell_type": "code",
      "source": [
        "y = wrangle(dar)\n",
        "y.head()"
      ],
      "metadata": {
        "id": "E7mprXbJMLtX"
      },
      "execution_count": null,
      "outputs": []
    },
    {
      "cell_type": "code",
      "source": [
        "#Create a time series plot of the readings in y\n",
        "\n",
        "fig, ax = plt.subplots(figsize=(15, 6))\n",
        "\n",
        "y[\"P2\"].plot(xlabel= \"Date\", ylabel=\"PM2.5 Level\", title= \"Dar es Salaam PM2.5 Levels\" ,ax=ax)"
      ],
      "metadata": {
        "id": "R1Qzu6UZMSZc"
      },
      "execution_count": null,
      "outputs": []
    },
    {
      "cell_type": "code",
      "source": [
        "# Plot the rolling average of the readings in y. Use a window size of 168 (the number of hours in a week)\n",
        "\n",
        "fig, ax = plt.subplots(figsize=(15, 6))\n",
        "\n",
        "y[\"P2\"].rolling(168).mean().plot(ax=ax, xlabel= \"Date\", ylabel=\"PM2.5 Level\", title=\"Dar es Salaam PM2.5 Levels, 7-Day Rolling Average\");"
      ],
      "metadata": {
        "id": "RaPgEuYpMc87"
      },
      "execution_count": null,
      "outputs": []
    },
    {
      "cell_type": "code",
      "source": [
        "#Create an ACF plot for the data in y\n",
        "\n",
        "fig, ax = plt.subplots(figsize=(15, 6))\n",
        "\n",
        "plot_acf(y, ax=ax)\n",
        "plt.xlabel('lag [hours]')\n",
        "plt.ylabel('Correlation coefficient')\n",
        "plt.title('\"Dar es Salaam PM2.5 Readings, ACF\"');"
      ],
      "metadata": {
        "id": "XBiRJR4QMn6F"
      },
      "execution_count": null,
      "outputs": []
    },
    {
      "cell_type": "code",
      "source": [
        "#Create an PACF plot for the data in y\n",
        "\n",
        "fig, ax = plt.subplots(figsize=(15, 6))\n",
        "\n",
        "plot_pacf(y, ax=ax)\n",
        "plt.xlabel('lag [hours]')\n",
        "plt.ylabel('Correlation coefficient')\n",
        "plt.title('\"Dar es Salaam PM2.5 Readings, PACF\"');"
      ],
      "metadata": {
        "id": "V_6JSgRxM1Zj"
      },
      "execution_count": null,
      "outputs": []
    },
    {
      "cell_type": "markdown",
      "source": [
        "## **Split**"
      ],
      "metadata": {
        "id": "VVlrxCqANBGo"
      }
    },
    {
      "cell_type": "code",
      "source": [
        "#Split y into training and test sets. The first 90% of the data should be in your training set. The remaining 10% should be in the test set.\n",
        "\n",
        "cutoff_test = int(len(y)*0.90)\n",
        "\n",
        "y_train = y.iloc[:cutoff_test].squeeze()\n",
        "y_test = y.iloc[cutoff_test:].squeeze()\n",
        "\n",
        "print(\"y_train shape:\", y_train.shape)\n",
        "print(\"y_test shape:\", y_test.shape)"
      ],
      "metadata": {
        "id": "_rH3VimwM855"
      },
      "execution_count": null,
      "outputs": []
    },
    {
      "cell_type": "markdown",
      "source": [
        "## **Build the model**"
      ],
      "metadata": {
        "id": "60yW34WyNTGR"
      }
    },
    {
      "cell_type": "code",
      "source": [
        "# Establish the baseline mean absolute error of the model.\n",
        "\n",
        "y_train_mean = y_train.mean()\n",
        "\n",
        "y_pred_baseline = [y_train_mean]*len(y_train)\n",
        "mae_baseline = mean_absolute_error(y_train, y_pred_baseline)\n",
        "\n",
        "print(\"Mean P2 Reading:\", y_train_mean)\n",
        "print(\"Baseline MAE:\", mae_baseline)"
      ],
      "metadata": {
        "id": "ByqKLwrCNMT7"
      },
      "execution_count": null,
      "outputs": []
    },
    {
      "cell_type": "markdown",
      "source": [
        "## **Iterate**"
      ],
      "metadata": {
        "id": "KZ9EXNvrNnDE"
      }
    },
    {
      "cell_type": "code",
      "source": [
        "p_params = range(1, 31)\n",
        "maes = []\n",
        "for p in p_params:\n",
        "    \n",
        "    lags = (p)\n",
        "    \n",
        "    model = AutoReg(y_train, lags=lags).fit()\n",
        "          \n",
        "    y_pred = model.predict().dropna()\n",
        "    \n",
        "    mae = mean_absolute_error(y_train.iloc[p:], y_pred)\n",
        "    \n",
        "    maes.append(mae)\n",
        "\n",
        "    pass\n",
        "          \n",
        " \n",
        "\n",
        "mae_series = pd.Series(maes, name=\"mae\", index=p_params)\n",
        "    \n",
        "mae_series.head()"
      ],
      "metadata": {
        "id": "-mel188aNfwk"
      },
      "execution_count": null,
      "outputs": []
    },
    {
      "cell_type": "code",
      "source": [
        "#Look through the results in mae_series and determine what value for p provides the best performance\n",
        "mae_series.sort_values()"
      ],
      "metadata": {
        "id": "NODH9lbqN2fW"
      },
      "execution_count": null,
      "outputs": []
    },
    {
      "cell_type": "code",
      "source": [
        "#build and train final_model using the best hyperparameter value.\n",
        "\n",
        "best_p = 28\n",
        "best_model = AutoReg(y_train, lags= best_p).fit()"
      ],
      "metadata": {
        "id": "Qx9Sn9_WN979"
      },
      "execution_count": null,
      "outputs": []
    },
    {
      "cell_type": "code",
      "source": [
        "#Calculate the training residuals for best_model and assign the result to y_train_resid\n",
        "y_train_resid = best_model.resid\n",
        "y_train_resid.name = \"residuals\"\n",
        "y_train_resid.head()"
      ],
      "metadata": {
        "id": "I86MLptIOGEh"
      },
      "execution_count": null,
      "outputs": []
    },
    {
      "cell_type": "code",
      "source": [
        "# Plot histogram of residuals\n",
        "y_train_resid.hist()\n",
        "plt.xlabel(\"Residuals\")\n",
        "plt.ylabel(\"Frequency\")\n",
        "plt.title(\"Best Model, Training Residuals\")"
      ],
      "metadata": {
        "id": "PrX0pU0GOOQ5"
      },
      "execution_count": null,
      "outputs": []
    },
    {
      "cell_type": "code",
      "source": [
        "#Create an ACF plot for y_train_resid\n",
        "\n",
        "fig, ax = plt.subplots(figsize=(15, 6))\n",
        "\n",
        "plot_acf(y_train_resid ,ax=ax)\n",
        "plt.xlabel(\"Lag [hours]\")\n",
        "plt.ylabel(\"Correlation Coefficient\")\n",
        "plt.title(\"Dar es Salaam, Training Residuals ACF\")"
      ],
      "metadata": {
        "id": "vM-2p9UJORzf"
      },
      "execution_count": null,
      "outputs": []
    },
    {
      "cell_type": "markdown",
      "source": [
        "## **Evaluate**"
      ],
      "metadata": {
        "id": "zdD5dUpeOcj-"
      }
    },
    {
      "cell_type": "code",
      "source": [
        "#Perform walk-forward validation for your model for the entire test set y_test\n",
        "\n",
        "y_pred_wfv = pd.Series()\n",
        "history = y_train.copy()\n",
        "for i in range(len(y_test)):\n",
        "    \n",
        "    model = AutoReg(history, lags=28).fit()\n",
        "    next_pred = model.forecast()\n",
        "    y_pred_wfv = y_pred_wfv.append(next_pred)\n",
        "    history = history.append(y_test[next_pred.index])\n",
        "    \n",
        "    pass\n",
        "y_pred_wfv.name = \"prediction\"\n",
        "y_pred_wfv.index.name = \"timestamp\"\n",
        "y_pred_wfv.head()"
      ],
      "metadata": {
        "id": "KSDseRWjOiQ9"
      },
      "execution_count": null,
      "outputs": []
    },
    {
      "cell_type": "markdown",
      "source": [
        "## **Communicate Results**"
      ],
      "metadata": {
        "id": "8ORLopwsOzDe"
      }
    },
    {
      "cell_type": "code",
      "source": [
        "#plot df_pred_test using plotly express\n",
        "\n",
        "df_pred_test = ...\n",
        "fig = ...\n",
        "fig.update_layout(\n",
        "    title=\"Dar es Salaam, WFV Predictions\",\n",
        "    xaxis_title=\"Date\",\n",
        "    yaxis_title=\"PM2.5 Level\",\n",
        ")\n",
        "\n",
        "fig.show()"
      ],
      "metadata": {
        "id": "qi-4MotaOZxK"
      },
      "execution_count": null,
      "outputs": []
    }
  ]
}