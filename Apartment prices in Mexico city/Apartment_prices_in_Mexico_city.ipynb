{
  "nbformat": 4,
  "nbformat_minor": 0,
  "metadata": {
    "colab": {
      "name": "Apartment prices in Mexico city.ipynb",
      "provenance": [],
      "collapsed_sections": []
    },
    "kernelspec": {
      "name": "python3",
      "display_name": "Python 3"
    },
    "language_info": {
      "name": "python"
    }
  },
  "cells": [
    {
      "cell_type": "markdown",
      "source": [
        "# **Predicting Apartment Prices in Mexico City**"
      ],
      "metadata": {
        "id": "4bcOQv3yDvn7"
      }
    },
    {
      "cell_type": "code",
      "execution_count": null,
      "metadata": {
        "id": "S2avCemiDmFc"
      },
      "outputs": [],
      "source": [
        "# Import libraries here\n",
        "\n",
        "from glob import glob\n",
        "\n",
        "import pandas as pd\n",
        "\n",
        "import seaborn as sns\n",
        "\n",
        "import matplotlib.pyplot as plt\n",
        "\n",
        "import plotly.express as px\n",
        "\n",
        "from sklearn.impute import SimpleImputer\n",
        "from sklearn.linear_model import LinearRegression, Ridge  # noqa F401\n",
        "from sklearn.metrics import mean_absolute_error\n",
        "from sklearn.pipeline import make_pipeline\n",
        "from sklearn.utils.validation import check_is_fitted"
      ]
    },
    {
      "cell_type": "markdown",
      "source": [
        "## **Prepare Data**"
      ],
      "metadata": {
        "id": "dtrB7fDGELW5"
      }
    },
    {
      "cell_type": "code",
      "source": [
        "# Build  `wrangle` function\n",
        "\n",
        "def wrangle (filepath):\n",
        "    df=pd.read_csv(filepath)\n",
        "    \n",
        "    #subset df and cost less than 100000 dolars\n",
        "    \n",
        "    mask_df= df[\"place_with_parent_names\"].str.contains('Distrito Federal')\n",
        "    mask_apart=df['property_type']== 'apartment'\n",
        "    mask_cost= df['price_aprox_usd']<100000\n",
        "    df= df[mask_df & mask_cost & mask_apart]\n",
        "    \n",
        "   # Subset data: Remove outliers for \"surface_covered_in_m2\"\n",
        "    \n",
        "    low, high= df['surface_covered_in_m2'].quantile([0.1, 0.9])\n",
        "    mask_area = df['surface_covered_in_m2'].between(low,high)\n",
        "    df= df[mask_area]\n",
        "    \n",
        "    #split lat and lon\n",
        "    \n",
        "    df[['lat', 'lon']]= df['lat-lon'].str.split(',', expand=True).astype(float)\n",
        "    df.drop(columns= ['lat-lon'], inplace=True)\n",
        "    \n",
        "    #create borough column\n",
        "    \n",
        "    df[\"borough\"]= df['place_with_parent_names'].str.split('|', expand=True)[1]\n",
        "    df.drop(columns=['place_with_parent_names'], inplace=True)\n",
        "    \n",
        "    #drop high nulls columns\n",
        "    \n",
        "    df.drop(columns=[ 'price_usd_per_m2',\n",
        "                    'floor', 'rooms', 'expenses'], inplace=True)\n",
        "    \n",
        "    #drop columns containing low- or high-cardinality categorical values\n",
        "    \n",
        "    df.drop(columns=['operation' ,\n",
        "                    'currency', 'properati_url', 'property_type'], inplace=True)\n",
        "    \n",
        "    #drop leaky columns for price_aprox_usd\n",
        "    \n",
        "    df.drop(columns=['price', 'price_aprox_local_currency', \n",
        "                     'price_per_m2'], inplace=True)\n",
        "    \n",
        "    #Drop columns that would create issues of multicollinearity\n",
        "    \n",
        "    df.drop(columns=['surface_total_in_m2'], inplace=True)\n",
        "    \n",
        "    \n",
        "    \n",
        "    return df\n",
        "    "
      ],
      "metadata": {
        "id": "Wq3CK6f8EIvd"
      },
      "execution_count": null,
      "outputs": []
    },
    {
      "cell_type": "code",
      "source": [
        "#test wrangle function and explore the data\n",
        "df= wrangle('data/mexico-city-real-estate-1.csv')\n",
        "df"
      ],
      "metadata": {
        "id": "umpW380sEZgi"
      },
      "execution_count": null,
      "outputs": []
    },
    {
      "cell_type": "code",
      "source": [
        "#Use glob to create the list files\n",
        "\n",
        "files = sorted(glob('data/mexico-city-real-estate-*.csv'))\n",
        "\n",
        "files"
      ],
      "metadata": {
        "id": "UVDbw3l3EnPH"
      },
      "execution_count": null,
      "outputs": []
    },
    {
      "cell_type": "code",
      "source": [
        "#Combine wrangle function, a list comprehension, and pd.concat to create a DataFrame df\n",
        "\n",
        "df = [wrangle(file) for file in files]\n",
        "df= pd.concat(df)\n",
        "\n",
        "print(df.info())\n",
        "df.head()"
      ],
      "metadata": {
        "id": "GDCtUcMUEysG"
      },
      "execution_count": null,
      "outputs": []
    },
    {
      "cell_type": "markdown",
      "source": [
        "## **Explore**"
      ],
      "metadata": {
        "id": "SB93ewvEFMTT"
      }
    },
    {
      "cell_type": "code",
      "source": [
        "# Plot distribution of price\n",
        "\n",
        "plt.hist(df[\"price_aprox_usd\"])\n",
        "plt.xlabel(\"Area [sq meters]\")\n",
        "plt.ylabel(\"Count\")\n",
        "plt.title(\"Distribution of Apartment Prices\");"
      ],
      "metadata": {
        "id": "1gCuGpfbFHdC"
      },
      "execution_count": null,
      "outputs": []
    },
    {
      "cell_type": "code",
      "source": [
        "# Plot price vs area\n",
        "\n",
        "plt.scatter(x= df[\"surface_covered_in_m2\"], y= df[\"price_aprox_usd\"] )\n",
        "plt.xlabel(\"Area [sq meters]\")\n",
        "plt.ylabel(\"Price [USD]\")\n",
        "plt.title(\"Mexico City: Price vs. Area\")"
      ],
      "metadata": {
        "id": "yxcu314QFTBM"
      },
      "execution_count": null,
      "outputs": []
    },
    {
      "cell_type": "code",
      "source": [
        "# Plot Mapbox location and price\n",
        "\n",
        "fig = px.scatter_mapbox(\n",
        "    df,  # Our DataFrame\n",
        "    lat= 'lat',\n",
        "    lon= 'lon',\n",
        "    width=600,  # Width of map\n",
        "    height=600,  # Height of map\n",
        "    color=\"price_aprox_usd\",\n",
        "    hover_data=[\"price_aprox_usd\"],  # Display price when hovering mouse over house\n",
        ")\n",
        "\n",
        "fig.update_layout(mapbox_style=\"open-street-map\")\n",
        "\n",
        "fig.show()"
      ],
      "metadata": {
        "id": "YlZwbYovFZdI"
      },
      "execution_count": null,
      "outputs": []
    },
    {
      "cell_type": "code",
      "source": [
        "# Split data into feature matrix `X_train` and target vector `y_train`.\n",
        "target= \"price_aprox_usd\"\n",
        "feature = ['surface_covered_in_m2', 'lat', 'lon', 'borough']\n",
        "\n",
        "\n",
        "X_train = df[feature]\n",
        "y_train = df[target]"
      ],
      "metadata": {
        "id": "6dBnatGlFfLR"
      },
      "execution_count": null,
      "outputs": []
    },
    {
      "cell_type": "markdown",
      "source": [
        "## **Build Model**"
      ],
      "metadata": {
        "id": "0fpqlr5pFm8b"
      }
    },
    {
      "cell_type": "code",
      "source": [
        "#Baseline\n",
        "#Calculate the baseline mean absolute error of the model\n",
        "\n",
        "y_mean = y_train.mean()\n",
        "y_pred_baseline = [y_mean]*len(y_train)\n",
        "baseline_mae = mean_absolute_error(y_train, y_pred_baseline)\n",
        "print(\"Mean apt price:\", y_mean)\n",
        "print(\"Baseline MAE:\", baseline_mae)"
      ],
      "metadata": {
        "id": "RdvITlh8Fr_-"
      },
      "execution_count": null,
      "outputs": []
    },
    {
      "cell_type": "code",
      "source": [
        "#Iterate\n",
        "#Create a pipeline named model that contains all the transformers necessary for this dataset and one of the predictors used during this project. \n",
        "\n",
        "from category_encoders import OneHotEncoder\n",
        "\n",
        "#instanciate\n",
        "\n",
        "ohe = OneHotEncoder(use_cat_names=True)\n",
        "\n",
        "#Fit\n",
        "\n",
        "ohe.fit(X_train)\n",
        "\n",
        "#transform\n",
        "\n",
        "XT_train = ohe.transform(X_train)\n",
        "print(XT_train.shape)\n",
        "XT_train.head()"
      ],
      "metadata": {
        "id": "SWIwKDxWF4zo"
      },
      "execution_count": null,
      "outputs": []
    },
    {
      "cell_type": "code",
      "source": [
        "# Build Model\n",
        "model = make_pipeline(\n",
        "    OneHotEncoder(use_cat_names=True),\n",
        "    SimpleImputer(),\n",
        "    Ridge()\n",
        "\n",
        ")\n",
        "\n",
        "# Fit model\n",
        "model.fit(X_train, y_train)"
      ],
      "metadata": {
        "id": "HURtLxYCGdge"
      },
      "execution_count": null,
      "outputs": []
    },
    {
      "cell_type": "markdown",
      "source": [
        "## **Evaluate**"
      ],
      "metadata": {
        "id": "I2fmlBORGi-4"
      }
    },
    {
      "cell_type": "code",
      "source": [
        "#Read the CSV file mexico-city-test-features.csv into the DataFrame X_test\n",
        "\n",
        "X_test = pd.read_csv('data/mexico-city-test-features.csv')\n",
        "print(X_test.info())\n",
        "X_test.head()\n",
        "\n"
      ],
      "metadata": {
        "id": "WsM1RwKUGlSy"
      },
      "execution_count": null,
      "outputs": []
    },
    {
      "cell_type": "code",
      "source": [
        "\n",
        "#Use the  model to generate a Series of predictions for X_test\n",
        "\n",
        "y_test_pred = pd.Series(model.predict(X_test))\n",
        "y_test_pred.head()"
      ],
      "metadata": {
        "id": "SXn5mQ76HRC8"
      },
      "execution_count": null,
      "outputs": []
    },
    {
      "cell_type": "markdown",
      "source": [
        "## **Communicate Results**"
      ],
      "metadata": {
        "id": "3t6KCsfHHkee"
      }
    },
    {
      "cell_type": "code",
      "source": [
        "coefficients = ...\n",
        "features = ...\n",
        "feat_imp = ...\n",
        "feat_imp"
      ],
      "metadata": {
        "id": "fcQZ03J6Hnne"
      },
      "execution_count": null,
      "outputs": []
    },
    {
      "cell_type": "code",
      "source": [
        "# Create horizontal bar chart"
      ],
      "metadata": {
        "id": "SU11WNgeH0bG"
      },
      "execution_count": null,
      "outputs": []
    },
    {
      "cell_type": "code",
      "source": [
        ""
      ],
      "metadata": {
        "id": "Kb6X5hqOH4I6"
      },
      "execution_count": null,
      "outputs": []
    }
  ]
}