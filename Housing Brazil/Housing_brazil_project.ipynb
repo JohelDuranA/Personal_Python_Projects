{
  "nbformat": 4,
  "nbformat_minor": 0,
  "metadata": {
    "colab": {
      "name": "Housing brazil project.ipynb",
      "provenance": [],
      "collapsed_sections": []
    },
    "kernelspec": {
      "name": "python3",
      "display_name": "Python 3"
    },
    "language_info": {
      "name": "python"
    }
  },
  "cells": [
    {
      "cell_type": "markdown",
      "source": [
        "<font size=\"+3\"><strong>Housing in Brazil 🇧🇷</strong></font>"
      ],
      "metadata": {
        "id": "4ONR8anR6CWC"
      }
    },
    {
      "cell_type": "markdown",
      "source": [
        "# **Prepare the data**"
      ],
      "metadata": {
        "id": "LnuwRyJ6_fAr"
      }
    },
    {
      "cell_type": "markdown",
      "source": [
        "## **Import**"
      ],
      "metadata": {
        "id": "ZuO-zuFz_7gh"
      }
    },
    {
      "cell_type": "code",
      "execution_count": 1,
      "metadata": {
        "id": "TqDa_OQ-6AIe"
      },
      "outputs": [],
      "source": [
        "# Import Matplotlib, pandas, and plotly\n",
        "\n",
        "import matplotlib.pyplot as plt\n",
        "import pandas as pd\n",
        "import plotly.express as px"
      ]
    },
    {
      "cell_type": "code",
      "source": [
        "#Import brasil-real-estate-1 csv file\n",
        "\n",
        "df1 = pd.read_csv(\"data/brasil-real-estate-1.csv\")\n",
        "df1.head()"
      ],
      "metadata": {
        "id": "T7Sd2EJc6T_e"
      },
      "execution_count": null,
      "outputs": []
    },
    {
      "cell_type": "code",
      "source": [
        "#drop Nan Values\n",
        "\n",
        "df1.dropna(inplace=True)"
      ],
      "metadata": {
        "id": "V2bmIy7q6gw3"
      },
      "execution_count": null,
      "outputs": []
    },
    {
      "cell_type": "code",
      "source": [
        "#split column \"lat-lon\" and convert to float\n",
        "df1[['lat', 'lon']]= df1['lat-lon'].str.split(\",\", expand=True).astype(float)"
      ],
      "metadata": {
        "id": "_bZSU_ug6sfN"
      },
      "execution_count": null,
      "outputs": []
    },
    {
      "cell_type": "code",
      "source": [
        "#split column \"place_with_parent_names\" for extract state\n",
        "\n",
        "df1['state']= df1[\"place_with_parent_names\"].str.split('|', expand=True)[2]\n",
        "df1['state']"
      ],
      "metadata": {
        "id": "9Z2zfjrB64FQ"
      },
      "execution_count": null,
      "outputs": []
    },
    {
      "cell_type": "code",
      "source": [
        "# delete by replace the $ and , from \"price_usd\" column and converto to float\n",
        "\n",
        "df1['price_usd']= (df1['price_usd']\n",
        "                   .str.replace(\"$\",\"\",regex= False )\n",
        "                   .str.replace(\",\", \"\" )\n",
        "                   .astype(float))"
      ],
      "metadata": {
        "id": "bWvTX8l67LnC"
      },
      "execution_count": null,
      "outputs": []
    },
    {
      "cell_type": "code",
      "source": [
        "#drop the lat-lon and place_with_parent_names columns\n",
        "df1.drop(columns=['lat-lon', 'place_with_parent_names'], inplace=True)"
      ],
      "metadata": {
        "id": "TIsKsB-H9Ofq"
      },
      "execution_count": null,
      "outputs": []
    },
    {
      "cell_type": "code",
      "source": [
        "# import brasil-real-estate-2 csv file\n",
        "\n",
        "df2 = pd.read_csv(\"data/brasil-real-estate-2.csv\")"
      ],
      "metadata": {
        "id": "PqIiKArc9cV9"
      },
      "execution_count": null,
      "outputs": []
    },
    {
      "cell_type": "code",
      "source": [
        "#use the price_brl column to create the price_usd column\n",
        "\n",
        "df2[\"price_usd\"]= df2[\"price_brl\"]/3.19"
      ],
      "metadata": {
        "id": "xdS84yO692Gg"
      },
      "execution_count": null,
      "outputs": []
    },
    {
      "cell_type": "code",
      "source": [
        "# drop the price_brl column and drop Nans from all dataframe\n",
        "\n",
        "df2.drop(columns=[\"price_brl\"], inplace=True)\n",
        "df2.dropna(inplace=True)"
      ],
      "metadata": {
        "id": "ditbxT6z-LdB"
      },
      "execution_count": null,
      "outputs": []
    },
    {
      "cell_type": "code",
      "source": [
        "# concatenate both dataframes and check the shape\n",
        "\n",
        "df = pd.concat([df1,df2])\n",
        "print(\"df shape:\", df.shape)"
      ],
      "metadata": {
        "id": "p5jFxppA-ZlL"
      },
      "execution_count": null,
      "outputs": []
    },
    {
      "cell_type": "markdown",
      "source": [
        "## **Explore**"
      ],
      "metadata": {
        "id": "jTEzgXQo_tnH"
      }
    },
    {
      "cell_type": "code",
      "source": [
        "# create scatter_mapbox showing the location of the properties in df\n",
        "\n",
        "fig = px.scatter_mapbox(\n",
        "    df,\n",
        "    lat='lat',\n",
        "    lon='lon',\n",
        "    center={\"lat\": -14.2, \"lon\": -51.9},  # Map will be centered on Brazil\n",
        "    width=600,\n",
        "    height=600,\n",
        "    hover_data=[\"price_usd\"],  # Display price when hovering mouse over house\n",
        ")\n",
        "\n",
        "fig.update_layout(mapbox_style=\"open-street-map\")\n",
        "\n",
        "fig.show()"
      ],
      "metadata": {
        "id": "mCG1NVTd-t3W"
      },
      "execution_count": null,
      "outputs": []
    },
    {
      "cell_type": "code",
      "source": [
        "# Create a histogram of \"price_usd\"\n",
        "\n",
        "plt.hist(df[\"price_usd\"])\n",
        "plt.xlabel(\"Price [USD]\")\n",
        "plt.ylabel(\"Frequency\")\n",
        "plt.title(\"Distribution of Home Prices\");\n",
        "\n"
      ],
      "metadata": {
        "id": "kNLaEZCSAjxh"
      },
      "execution_count": null,
      "outputs": []
    },
    {
      "cell_type": "code",
      "source": [
        "# horizontal boxplot of \"area_m2\"\n",
        "\n",
        "plt.boxplot(df[\"area_m2\"], vert=False)\n",
        "plt.xlabel(\"Area [sq meters]\")\n",
        "plt.title(\"Distribution of Home Sizes\")"
      ],
      "metadata": {
        "id": "5csfuDpcA52D"
      },
      "execution_count": null,
      "outputs": []
    },
    {
      "cell_type": "code",
      "source": [
        "#Use the groupby method to create a Series named mean_price_by_region that shows the mean home price in each region in Brazil, sorted from smallest to largest\n",
        "\n",
        "mean_price_by_region = df.groupby('region')['price_usd'].mean().sort_values(ascending=False)\n",
        "print(mean_price_by_region)"
      ],
      "metadata": {
        "id": "SybyUxA8BDen"
      },
      "execution_count": null,
      "outputs": []
    },
    {
      "cell_type": "code",
      "source": [
        "#Use mean_price_by_region to create a bar chart. \n",
        "\n",
        "mean_price_by_region.plot(\n",
        "    kind='bar',\n",
        "    xlabel= \"Region\",\n",
        "    ylabel= \"Mean Price [USD]\",\n",
        "    title= \"Mean House Price by Region\"\n",
        "\n",
        ");"
      ],
      "metadata": {
        "id": "drW1u2yWBO0j"
      },
      "execution_count": null,
      "outputs": []
    },
    {
      "cell_type": "code",
      "source": [
        "#Create a DataFrame df_south that contains all the homes from df that are in the \"South\" region\n",
        "\n",
        "df_south = df[df['region']=='South']\n",
        "df_south.head()"
      ],
      "metadata": {
        "id": "1kwNPrU7Bc1W"
      },
      "execution_count": null,
      "outputs": []
    },
    {
      "cell_type": "code",
      "source": [
        "# Use the value_counts method to create a Series homes_by_state that contains the number of properties in each state in df_south\n",
        "homes_by_state = df_south['state'].value_counts()\n",
        "homes_by_state\n"
      ],
      "metadata": {
        "id": "P5KZj_lEB2jF"
      },
      "execution_count": null,
      "outputs": []
    },
    {
      "cell_type": "code",
      "source": [
        "# scatter plot showing price vs. area for the state in df_south that has the largest number of properties\n",
        "\n",
        "plt.scatter(df_south[df_south['state']=='Rio Grande do Sul']['area_m2'], \n",
        "            df_south[df_south['state']=='Rio Grande do Sul']['price_usd'])\n",
        "plt.xlabel(\"Area [sq meters]\")\n",
        "plt.ylabel(\"Price [USD]\")\n",
        "plt.title(\"Rio Grande do Sul: Price vs. Area\");\n"
      ],
      "metadata": {
        "id": "dhB3ka3nB8vW"
      },
      "execution_count": null,
      "outputs": []
    },
    {
      "cell_type": "code",
      "source": [
        "#Create a dictionary south_states_corr, where the keys are the names of the three states in the \"South\" region of Brazil, and their associated values are the correlation coefficient between \"area_m2\" and \"price_usd\" in that state.\n",
        "\n",
        "south_states_corr = {\n",
        "    'Rio Grande do Sul':0.894637 ,\n",
        "    'Santa Catarina':0.894637 ,\n",
        "    'Paraná': 0.894637\n",
        " }\n",
        "\n",
        "south_states_corr\n"
      ],
      "metadata": {
        "id": "Pb9zaXOLCIJH"
      },
      "execution_count": null,
      "outputs": []
    },
    {
      "cell_type": "code",
      "source": [
        ""
      ],
      "metadata": {
        "id": "RnF9rm0PCbGI"
      },
      "execution_count": null,
      "outputs": []
    },
    {
      "cell_type": "code",
      "source": [
        ""
      ],
      "metadata": {
        "id": "n8kB4LbPCISN"
      },
      "execution_count": null,
      "outputs": []
    }
  ]
}